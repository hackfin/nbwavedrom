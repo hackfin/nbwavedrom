{
 "metadata": {
  "name": ""
 },
 "nbformat": 3,
 "nbformat_minor": 0,
 "worksheets": [
  {
   "cells": [
    {
     "cell_type": "code",
     "collapsed": false,
     "input": [
      "import wavedrom\n",
      "\n",
      "a = {'signal': [\n",
      "  {'name': 'clk', 'wave': 'p.....|...'},\n",
      "  {'name': 'dat', 'wave': 'x.345x|=.x', 'data': ['head', 'body', 'tail', 'data']},\n",
      "  {'name': 'req', 'wave': '0.1..0|1.0'},\n",
      "  {},\n",
      "  {'name': 'ack', 'wave': '1.....|01.'}\n",
      "]}\n",
      "\n",
      "wavedrom.draw_wavedrom("
     ],
     "language": "python",
     "metadata": {
      "slideshow": {
       "slide_type": "-"
      }
     },
     "outputs": [
      {
       "html": [
        "<script type=\"WaveDrom\">{\"signal\": [{\"name\": \"clk\", \"wave\": \"p.....|...\"}, {\"data\": [\"head\", \"body\", \"tail\", \"data\"], \"name\": \"dat\", \"wave\": \"x.345x|=.x\"}, {\"name\": \"req\", \"wave\": \"0.1..0|1.0\"}, {}, {\"name\": \"ack\", \"wave\": \"1.....|01.\"}]}</script>"
       ],
       "metadata": {},
       "output_type": "display_data"
      },
      {
       "javascript": [
        "$.getScript(\"files/js/WaveDrom.js\", function () {\n",
        "$.getScript(\"files/js/WaveDromSkin.js\", function () {\n",
        "WaveDrom.ProcessAll();});\n",
        "});\n"
       ],
       "metadata": {},
       "output_type": "display_data"
      }
     ],
     "prompt_number": 15
    },
    {
     "cell_type": "code",
     "collapsed": false,
     "input": [],
     "language": "python",
     "metadata": {},
     "outputs": []
    }
   ],
   "metadata": {}
  }
 ]
}